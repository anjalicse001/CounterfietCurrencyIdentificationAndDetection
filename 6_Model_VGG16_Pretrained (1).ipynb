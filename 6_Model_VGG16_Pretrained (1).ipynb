{
  "cells": [
    {
      "cell_type": "code",
      "execution_count": 1,
      "metadata": {
        "id": "BuA_xXtYBgtf"
      },
      "outputs": [],
      "source": [
        "import os\n",
        "import numpy as np\n",
        "import matplotlib.pyplot as plt\n",
        "import random\n",
        "import cv2\n",
        "import PIL\n",
        "import glob\n",
        "import tensorflow as tf\n",
        "from tensorflow import keras\n",
        "from tensorflow.keras import layers\n",
        "from tensorflow.keras.preprocessing.image import ImageDataGenerator"
      ]
    },
    {
      "cell_type": "code",
      "source": [
        "!ls /content/"
      ],
      "metadata": {
        "colab": {
          "base_uri": "https://localhost:8080/"
        },
        "id": "4k3DmHGmzTPP",
        "outputId": "1374266f-13fd-43e1-cd42-585a32750b2b"
      },
      "execution_count": null,
      "outputs": [
        {
          "output_type": "stream",
          "name": "stdout",
          "text": [
            " model\t sample_data   Test  'Test (2).zip'   Train\n"
          ]
        }
      ]
    },
    {
      "cell_type": "code",
      "source": [
        "!mkdir '/content/Train'"
      ],
      "metadata": {
        "id": "Of4sYkMh1EcO"
      },
      "execution_count": 2,
      "outputs": []
    },
    {
      "cell_type": "code",
      "source": [
        "!mv '/content/Train.zip' '/content/Train/'"
      ],
      "metadata": {
        "id": "Ex-lEmsC1O2j"
      },
      "execution_count": null,
      "outputs": []
    },
    {
      "cell_type": "code",
      "source": [
        "!mkdir '/content/Test'"
      ],
      "metadata": {
        "id": "Ax9gOAr51I-6"
      },
      "execution_count": 3,
      "outputs": []
    },
    {
      "cell_type": "code",
      "source": [
        "!mkdir '/content/model/'"
      ],
      "metadata": {
        "id": "m1GRZfma913P"
      },
      "execution_count": 4,
      "outputs": []
    },
    {
      "cell_type": "code",
      "source": [
        "!mv '/content/Test.zip' '/content/Test/'"
      ],
      "metadata": {
        "id": "qJjf4ggT1Z_e"
      },
      "execution_count": null,
      "outputs": []
    },
    {
      "cell_type": "code",
      "source": [
        "!unzip '/content/Train/Train.zip'"
      ],
      "metadata": {
        "id": "JWnVDp1V0Jvm",
        "colab": {
          "base_uri": "https://localhost:8080/",
          "height": 0
        },
        "outputId": "fea2ee6e-741f-4a66-f9da-cfd491bdbec3"
      },
      "execution_count": 7,
      "outputs": [
        {
          "output_type": "stream",
          "name": "stdout",
          "text": [
            "Archive:  /content/Train/Train.zip\n",
            "  inflating: 1Hundrednote/1.jpg      \n",
            "  inflating: 1Hundrednote/10.jpg     \n",
            "  inflating: 1Hundrednote/11.jpg     \n",
            "  inflating: 1Hundrednote/13.jpg     \n",
            "  inflating: 1Hundrednote/18.jpg     \n",
            "  inflating: 1Hundrednote/2.jpg      \n",
            "  inflating: 1Hundrednote/20.jpg     \n",
            "  inflating: 1Hundrednote/21.jpg     \n",
            "  inflating: 1Hundrednote/22.jpg     \n",
            "  inflating: 1Hundrednote/23.jpg     \n",
            "  inflating: 1Hundrednote/24.jpg     \n",
            "  inflating: 1Hundrednote/25.jpg     \n",
            "  inflating: 1Hundrednote/27.jpg     \n",
            "  inflating: 1Hundrednote/28.jpg     \n",
            "  inflating: 1Hundrednote/29.jpg     \n",
            "  inflating: 1Hundrednote/3.jpg      \n",
            "  inflating: 1Hundrednote/30.jpg     \n",
            "  inflating: 1Hundrednote/4.jpg      \n",
            "  inflating: 1Hundrednote/5.jpg      \n",
            "  inflating: 1Hundrednote/6.jpg      \n",
            "  inflating: 1Hundrednote/7.jpg      \n",
            "  inflating: 1Hundrednote/8.jpg      \n",
            "  inflating: 2Hundrednote/1.jpg      \n",
            "  inflating: 2Hundrednote/10.jpg     \n",
            "  inflating: 2Hundrednote/11.jpg     \n",
            "  inflating: 2Hundrednote/12.jpg     \n",
            "  inflating: 2Hundrednote/13.jpg     \n",
            "  inflating: 2Hundrednote/17.jpg     \n",
            "  inflating: 2Hundrednote/18.jpg     \n",
            "  inflating: 2Hundrednote/19.jpg     \n",
            "  inflating: 2Hundrednote/2.jpg      \n",
            "  inflating: 2Hundrednote/20.jpg     \n",
            "  inflating: 2Hundrednote/21.jpg     \n",
            "  inflating: 2Hundrednote/25.jpg     \n",
            "  inflating: 2Hundrednote/26.jpg     \n",
            "  inflating: 2Hundrednote/27.jpg     \n",
            "  inflating: 2Hundrednote/28.jpg     \n",
            "  inflating: 2Hundrednote/29.jpg     \n",
            "  inflating: 2Hundrednote/30.jpg     \n",
            "  inflating: 2Hundrednote/4.jpg      \n",
            "  inflating: 2Hundrednote/5.jpg      \n",
            "  inflating: 2Hundrednote/6.jpg      \n",
            "  inflating: 2Hundrednote/7.jpg      \n",
            "  inflating: 2Hundrednote/8.jpg      \n",
            "  inflating: 2Thousandnote/1.jpg     \n",
            "  inflating: 2Thousandnote/10.jpg    \n",
            "  inflating: 2Thousandnote/11.jpg    \n",
            "  inflating: 2Thousandnote/12.jpg    \n",
            "  inflating: 2Thousandnote/13.jpg    \n",
            "  inflating: 2Thousandnote/16.jpg    \n",
            "  inflating: 2Thousandnote/17.jpg    \n",
            "  inflating: 2Thousandnote/19.jpg    \n",
            "  inflating: 2Thousandnote/2.jpg     \n",
            "  inflating: 2Thousandnote/20.jpg    \n",
            "  inflating: 2Thousandnote/21.jpg    \n",
            "  inflating: 2Thousandnote/22.jpg    \n",
            "  inflating: 2Thousandnote/24.jpg    \n",
            "  inflating: 2Thousandnote/25.jpg    \n",
            "  inflating: 2Thousandnote/26.jpg    \n",
            "  inflating: 2Thousandnote/27.jpg    \n",
            "  inflating: 2Thousandnote/29.jpg    \n",
            "  inflating: 2Thousandnote/4.jpg     \n",
            "  inflating: 2Thousandnote/6.jpg     \n",
            "  inflating: 2Thousandnote/7.jpg     \n",
            "  inflating: 2Thousandnote/8.jpg     \n",
            "  inflating: 5Hundrednote/12.jpg     \n",
            "  inflating: 5Hundrednote/13.jpg     \n",
            "  inflating: 5Hundrednote/15.jpg     \n",
            "  inflating: 5Hundrednote/16.jpg     \n",
            "  inflating: 5Hundrednote/18.jpg     \n",
            "  inflating: 5Hundrednote/19.jpg     \n",
            "  inflating: 5Hundrednote/2.jpg      \n",
            "  inflating: 5Hundrednote/20.jpg     \n",
            "  inflating: 5Hundrednote/21.jpg     \n",
            "  inflating: 5Hundrednote/22.jpg     \n",
            "  inflating: 5Hundrednote/23.jpg     \n",
            "  inflating: 5Hundrednote/24.jpg     \n",
            "  inflating: 5Hundrednote/25.jpg     \n",
            "  inflating: 5Hundrednote/26.jpg     \n",
            "  inflating: 5Hundrednote/28.jpg     \n",
            "  inflating: 5Hundrednote/29.jpg     \n",
            "  inflating: 5Hundrednote/3.jpg      \n",
            "  inflating: 5Hundrednote/4.jpg      \n",
            "  inflating: 5Hundrednote/5.jpg      \n",
            "  inflating: 5Hundrednote/7.jpg      \n",
            "  inflating: 5Hundrednote/8.jpg      \n",
            "  inflating: 5Hundrednote/9.jpg      \n",
            "  inflating: Fiftynote/1.jpg         \n",
            "  inflating: Fiftynote/11.jpg        \n",
            "  inflating: Fiftynote/12.jpg        \n",
            "  inflating: Fiftynote/13.jpg        \n",
            "  inflating: Fiftynote/14.jpg        \n",
            "  inflating: Fiftynote/15.jpg        \n",
            "  inflating: Fiftynote/16.jpg        \n",
            "  inflating: Fiftynote/17.jpg        \n",
            "  inflating: Fiftynote/18.jpg        \n",
            "  inflating: Fiftynote/19.jpg        \n",
            "  inflating: Fiftynote/2.jpg         \n",
            "  inflating: Fiftynote/20.jpg        \n",
            "  inflating: Fiftynote/21.jpg        \n",
            "  inflating: Fiftynote/22.jpg        \n",
            "  inflating: Fiftynote/23.jpg        \n",
            "  inflating: Fiftynote/25.jpg        \n",
            "  inflating: Fiftynote/26.jpg        \n",
            "  inflating: Fiftynote/3.jpg         \n",
            "  inflating: Fiftynote/31.jpg        \n",
            "  inflating: Fiftynote/6.jpg         \n",
            "  inflating: Fiftynote/7.jpg         \n",
            "  inflating: Fiftynote/8.jpg         \n",
            "  inflating: Tennote/1.jpg           \n",
            "  inflating: Tennote/10.jpg          \n",
            "  inflating: Tennote/12.jpg          \n",
            "  inflating: Tennote/13.jpg          \n",
            "  inflating: Tennote/14.jpg          \n",
            "  inflating: Tennote/15.jpg          \n",
            "  inflating: Tennote/16.jpg          \n",
            "  inflating: Tennote/17.jpg          \n",
            "  inflating: Tennote/18.jpg          \n",
            "  inflating: Tennote/19.jpg          \n",
            "  inflating: Tennote/20.jpg          \n",
            "  inflating: Tennote/21.jpg          \n",
            "  inflating: Tennote/24.jpg          \n",
            "  inflating: Tennote/25.jpg          \n",
            "  inflating: Tennote/26.jpg          \n",
            "  inflating: Tennote/27.jpg          \n",
            "  inflating: Tennote/3.jpg           \n",
            "  inflating: Tennote/30.jpg          \n",
            "  inflating: Tennote/4.jpg           \n",
            "  inflating: Tennote/5.jpg           \n",
            "  inflating: Tennote/6.jpg           \n",
            "  inflating: Tennote/7.jpg           \n",
            "  inflating: Twentynote/1.jpg        \n",
            "  inflating: Twentynote/10.jpg       \n",
            "  inflating: Twentynote/11.jpg       \n",
            "  inflating: Twentynote/12.jpg       \n",
            "  inflating: Twentynote/13.jpg       \n",
            "  inflating: Twentynote/15.jpg       \n",
            "  inflating: Twentynote/16.jpg       \n",
            "  inflating: Twentynote/17.jpg       \n",
            "  inflating: Twentynote/2.jpg        \n",
            "  inflating: Twentynote/20.jpg       \n",
            "  inflating: Twentynote/23.jpg       \n",
            "  inflating: Twentynote/26.jpg       \n",
            "  inflating: Twentynote/28.jpg       \n",
            "  inflating: Twentynote/29.jpg       \n",
            "  inflating: Twentynote/3.jpg        \n",
            "  inflating: Twentynote/32.jpg       \n",
            "  inflating: Twentynote/33.jpg       \n",
            "  inflating: Twentynote/4.jpg        \n",
            "  inflating: Twentynote/6.jpg        \n",
            "  inflating: Twentynote/7.jpg        \n",
            "  inflating: Twentynote/8.jpg        \n",
            "  inflating: Twentynote/9.jpg        \n"
          ]
        }
      ]
    },
    {
      "cell_type": "code",
      "source": [
        "!unzip '/content/Test/Test.zip'"
      ],
      "metadata": {
        "id": "kQikmNWB1pbo",
        "colab": {
          "base_uri": "https://localhost:8080/",
          "height": 0
        },
        "outputId": "db74fe94-1793-4373-c1b9-560b4944ecb2"
      },
      "execution_count": 6,
      "outputs": [
        {
          "output_type": "stream",
          "name": "stdout",
          "text": [
            "Archive:  /content/Test/Test.zip\n",
            "replace Test/1Hundrednote/1.jpg? [y]es, [n]o, [A]ll, [N]one, [r]ename: All\n",
            "  inflating: Test/1Hundrednote/1.jpg  \n",
            "  inflating: Test/1Hundrednote/14.jpg  \n",
            "  inflating: Test/1Hundrednote/15.jpg  \n",
            "  inflating: Test/1Hundrednote/16.jpg  \n",
            "  inflating: Test/1Hundrednote/2.jpg  \n",
            "  inflating: Test/1Hundrednote/3.jpg  \n",
            "  inflating: Test/2Hundrednote/1.jpg  \n",
            "  inflating: Test/2Hundrednote/2.jpg  \n",
            "  inflating: Test/2Hundrednote/3.jpg  \n",
            "  inflating: Test/2Hundrednote/31.jpg  \n",
            "  inflating: Test/2Hundrednote/32.jpg  \n",
            "  inflating: Test/2Hundrednote/33.jpg  \n",
            "  inflating: Test/2Thousandnote/1.jpg  \n",
            "  inflating: Test/2Thousandnote/2.jpg  \n",
            "  inflating: Test/2Thousandnote/3.jpg  \n",
            "  inflating: Test/2Thousandnote/31.jpg  \n",
            "  inflating: Test/2Thousandnote/32.jpg  \n",
            "  inflating: Test/2Thousandnote/33.jpg  \n",
            "  inflating: Test/5Hundrednote/1.jpg  \n",
            "  inflating: Test/5Hundrednote/2.jpg  \n",
            "  inflating: Test/5Hundrednote/3.jpg  \n",
            "  inflating: Test/5Hundrednote/31.jpg  \n",
            "  inflating: Test/5Hundrednote/32.jpg  \n",
            "  inflating: Test/5Hundrednote/33.jpg  \n",
            "  inflating: Test/Fiftynote/1.jpg    \n",
            "  inflating: Test/Fiftynote/2.jpg    \n",
            "  inflating: Test/Fiftynote/27.jpg   \n",
            "  inflating: Test/Fiftynote/28.jpg   \n",
            "  inflating: Test/Fiftynote/29.jpg   \n",
            "  inflating: Test/Fiftynote/3.jpg    \n",
            "  inflating: Test/Tennote/1.jpg      \n",
            "  inflating: Test/Tennote/2.jpg      \n",
            "  inflating: Test/Tennote/3.jpg      \n",
            "  inflating: Test/Tennote/31.jpg     \n",
            "  inflating: Test/Tennote/32.jpg     \n",
            "  inflating: Test/Tennote/33.jpg     \n",
            "  inflating: Test/Twentynote/1.jpg   \n",
            "  inflating: Test/Twentynote/18.jpg  \n",
            "  inflating: Test/Twentynote/2.jpg   \n",
            "  inflating: Test/Twentynote/24.jpg  \n",
            "  inflating: Test/Twentynote/3.jpg   \n",
            "  inflating: Test/Twentynote/30.jpg  \n"
          ]
        }
      ]
    },
    {
      "cell_type": "code",
      "execution_count": 8,
      "metadata": {
        "id": "5kfP2ZG0F8r6"
      },
      "outputs": [],
      "source": [
        "import os\n",
        "import numpy as np\n",
        "import matplotlib.pyplot as plt\n",
        "import random\n",
        "import cv2\n",
        "import PIL\n",
        "import glob\n",
        "import tensorflow as tf\n",
        "from tensorflow import keras\n",
        "from tensorflow.keras import layers\n",
        "from keras.preprocessing.image import ImageDataGenerator"
      ]
    },
    {
      "cell_type": "code",
      "execution_count": 9,
      "metadata": {
        "id": "lbdFrECGF845"
      },
      "outputs": [],
      "source": [
        "ROOTPATH = '/content'\n",
        "DATAPATH= ROOTPATH+'/Train'\n",
        "TRAINPATH = ROOTPATH+'/Train'\n",
        "TESTPATH =  ROOTPATH+'/Test'\n",
        "MODELPATH = ROOTPATH+'/model/'"
      ]
    },
    {
      "cell_type": "code",
      "source": [
        "!ls /content/Train/"
      ],
      "metadata": {
        "colab": {
          "base_uri": "https://localhost:8080/"
        },
        "id": "PPXDAEAR4ljM",
        "outputId": "76f399ab-e868-481e-fd51-ffb5c4c7fcbe"
      },
      "execution_count": null,
      "outputs": [
        {
          "output_type": "stream",
          "name": "stdout",
          "text": [
            "1Hundrednote  2Hundrednote  2Thousandnote  5Hundrednote  Fiftynote  Tennote  Twentynote\n"
          ]
        }
      ]
    },
    {
      "cell_type": "code",
      "execution_count": 13,
      "metadata": {
        "id": "8aGYnhxkF9JJ"
      },
      "outputs": [],
      "source": [
        "_1Hundrednote=glob.glob(DATAPATH+'/1Hundrednote/*')# [/content/Test/1Hundrednote/1.jpg,/content/Test/1Hundrednote/2.jpg]\n",
        "_2Hundrednote=glob.glob(DATAPATH+'/2Hundrednote/*')\n",
        "_2Thousandnote=glob.glob(DATAPATH+'/2Thousandnote/*')\n",
        "_5Hundrednote=glob.glob(DATAPATH+'/5Hundrednote/*')\n",
        "_Fiftynote=glob.glob(DATAPATH+'/Fiftynote/*')\n",
        "_Tennote=glob.glob(DATAPATH+'/Tennote/*')\n",
        "_Twentynote=glob.glob(DATAPATH+'/Twentynote/*')"
      ]
    },
    {
      "cell_type": "code",
      "source": [
        "print(len(_1Hundrednote),_1Hundrednote)\n",
        "print(len(_2Hundrednote),_2Hundrednote)\n",
        "print(len(_2Thousandnote),_2Thousandnote)\n",
        "print(len(_2Thousandnote),_2Thousandnote)\n",
        "print(len(_5Hundrednote),_5Hundrednote)\n",
        "print(len(_Fiftynote),_Fiftynote)\n",
        "print(len(_Tennote),_Tennote)\n",
        "print(len(_Twentynote),_Twentynote)"
      ],
      "metadata": {
        "colab": {
          "base_uri": "https://localhost:8080/",
          "height": 0
        },
        "id": "-RvBAduz35Cd",
        "outputId": "914c1fe6-ddbf-4018-b7f0-568636763e9c"
      },
      "execution_count": 14,
      "outputs": [
        {
          "output_type": "stream",
          "name": "stdout",
          "text": [
            "22 ['/content/Train/1Hundrednote/4.jpg', '/content/Train/1Hundrednote/11.jpg', '/content/Train/1Hundrednote/21.jpg', '/content/Train/1Hundrednote/13.jpg', '/content/Train/1Hundrednote/25.jpg', '/content/Train/1Hundrednote/28.jpg', '/content/Train/1Hundrednote/2.jpg', '/content/Train/1Hundrednote/18.jpg', '/content/Train/1Hundrednote/29.jpg', '/content/Train/1Hundrednote/3.jpg', '/content/Train/1Hundrednote/22.jpg', '/content/Train/1Hundrednote/8.jpg', '/content/Train/1Hundrednote/27.jpg', '/content/Train/1Hundrednote/10.jpg', '/content/Train/1Hundrednote/7.jpg', '/content/Train/1Hundrednote/1.jpg', '/content/Train/1Hundrednote/30.jpg', '/content/Train/1Hundrednote/23.jpg', '/content/Train/1Hundrednote/24.jpg', '/content/Train/1Hundrednote/20.jpg', '/content/Train/1Hundrednote/5.jpg', '/content/Train/1Hundrednote/6.jpg']\n",
            "22 ['/content/Train/2Hundrednote/4.jpg', '/content/Train/2Hundrednote/26.jpg', '/content/Train/2Hundrednote/11.jpg', '/content/Train/2Hundrednote/21.jpg', '/content/Train/2Hundrednote/13.jpg', '/content/Train/2Hundrednote/25.jpg', '/content/Train/2Hundrednote/28.jpg', '/content/Train/2Hundrednote/17.jpg', '/content/Train/2Hundrednote/2.jpg', '/content/Train/2Hundrednote/18.jpg', '/content/Train/2Hundrednote/29.jpg', '/content/Train/2Hundrednote/19.jpg', '/content/Train/2Hundrednote/8.jpg', '/content/Train/2Hundrednote/27.jpg', '/content/Train/2Hundrednote/10.jpg', '/content/Train/2Hundrednote/12.jpg', '/content/Train/2Hundrednote/7.jpg', '/content/Train/2Hundrednote/1.jpg', '/content/Train/2Hundrednote/30.jpg', '/content/Train/2Hundrednote/20.jpg', '/content/Train/2Hundrednote/5.jpg', '/content/Train/2Hundrednote/6.jpg']\n",
            "21 ['/content/Train/2Thousandnote/4.jpg', '/content/Train/2Thousandnote/26.jpg', '/content/Train/2Thousandnote/11.jpg', '/content/Train/2Thousandnote/21.jpg', '/content/Train/2Thousandnote/13.jpg', '/content/Train/2Thousandnote/25.jpg', '/content/Train/2Thousandnote/17.jpg', '/content/Train/2Thousandnote/2.jpg', '/content/Train/2Thousandnote/29.jpg', '/content/Train/2Thousandnote/19.jpg', '/content/Train/2Thousandnote/22.jpg', '/content/Train/2Thousandnote/8.jpg', '/content/Train/2Thousandnote/27.jpg', '/content/Train/2Thousandnote/10.jpg', '/content/Train/2Thousandnote/12.jpg', '/content/Train/2Thousandnote/7.jpg', '/content/Train/2Thousandnote/1.jpg', '/content/Train/2Thousandnote/16.jpg', '/content/Train/2Thousandnote/24.jpg', '/content/Train/2Thousandnote/20.jpg', '/content/Train/2Thousandnote/6.jpg']\n",
            "21 ['/content/Train/2Thousandnote/4.jpg', '/content/Train/2Thousandnote/26.jpg', '/content/Train/2Thousandnote/11.jpg', '/content/Train/2Thousandnote/21.jpg', '/content/Train/2Thousandnote/13.jpg', '/content/Train/2Thousandnote/25.jpg', '/content/Train/2Thousandnote/17.jpg', '/content/Train/2Thousandnote/2.jpg', '/content/Train/2Thousandnote/29.jpg', '/content/Train/2Thousandnote/19.jpg', '/content/Train/2Thousandnote/22.jpg', '/content/Train/2Thousandnote/8.jpg', '/content/Train/2Thousandnote/27.jpg', '/content/Train/2Thousandnote/10.jpg', '/content/Train/2Thousandnote/12.jpg', '/content/Train/2Thousandnote/7.jpg', '/content/Train/2Thousandnote/1.jpg', '/content/Train/2Thousandnote/16.jpg', '/content/Train/2Thousandnote/24.jpg', '/content/Train/2Thousandnote/20.jpg', '/content/Train/2Thousandnote/6.jpg']\n",
            "22 ['/content/Train/5Hundrednote/4.jpg', '/content/Train/5Hundrednote/9.jpg', '/content/Train/5Hundrednote/26.jpg', '/content/Train/5Hundrednote/21.jpg', '/content/Train/5Hundrednote/13.jpg', '/content/Train/5Hundrednote/25.jpg', '/content/Train/5Hundrednote/28.jpg', '/content/Train/5Hundrednote/2.jpg', '/content/Train/5Hundrednote/18.jpg', '/content/Train/5Hundrednote/29.jpg', '/content/Train/5Hundrednote/19.jpg', '/content/Train/5Hundrednote/3.jpg', '/content/Train/5Hundrednote/22.jpg', '/content/Train/5Hundrednote/8.jpg', '/content/Train/5Hundrednote/12.jpg', '/content/Train/5Hundrednote/7.jpg', '/content/Train/5Hundrednote/16.jpg', '/content/Train/5Hundrednote/23.jpg', '/content/Train/5Hundrednote/24.jpg', '/content/Train/5Hundrednote/20.jpg', '/content/Train/5Hundrednote/5.jpg', '/content/Train/5Hundrednote/15.jpg']\n",
            "22 ['/content/Train/Fiftynote/26.jpg', '/content/Train/Fiftynote/11.jpg', '/content/Train/Fiftynote/21.jpg', '/content/Train/Fiftynote/13.jpg', '/content/Train/Fiftynote/25.jpg', '/content/Train/Fiftynote/17.jpg', '/content/Train/Fiftynote/2.jpg', '/content/Train/Fiftynote/18.jpg', '/content/Train/Fiftynote/19.jpg', '/content/Train/Fiftynote/3.jpg', '/content/Train/Fiftynote/22.jpg', '/content/Train/Fiftynote/8.jpg', '/content/Train/Fiftynote/12.jpg', '/content/Train/Fiftynote/7.jpg', '/content/Train/Fiftynote/14.jpg', '/content/Train/Fiftynote/1.jpg', '/content/Train/Fiftynote/16.jpg', '/content/Train/Fiftynote/31.jpg', '/content/Train/Fiftynote/23.jpg', '/content/Train/Fiftynote/20.jpg', '/content/Train/Fiftynote/15.jpg', '/content/Train/Fiftynote/6.jpg']\n",
            "22 ['/content/Train/Tennote/4.jpg', '/content/Train/Tennote/26.jpg', '/content/Train/Tennote/21.jpg', '/content/Train/Tennote/13.jpg', '/content/Train/Tennote/25.jpg', '/content/Train/Tennote/17.jpg', '/content/Train/Tennote/18.jpg', '/content/Train/Tennote/19.jpg', '/content/Train/Tennote/3.jpg', '/content/Train/Tennote/27.jpg', '/content/Train/Tennote/10.jpg', '/content/Train/Tennote/12.jpg', '/content/Train/Tennote/7.jpg', '/content/Train/Tennote/14.jpg', '/content/Train/Tennote/1.jpg', '/content/Train/Tennote/30.jpg', '/content/Train/Tennote/16.jpg', '/content/Train/Tennote/24.jpg', '/content/Train/Tennote/20.jpg', '/content/Train/Tennote/5.jpg', '/content/Train/Tennote/15.jpg', '/content/Train/Tennote/6.jpg']\n",
            "22 ['/content/Train/Twentynote/4.jpg', '/content/Train/Twentynote/9.jpg', '/content/Train/Twentynote/26.jpg', '/content/Train/Twentynote/11.jpg', '/content/Train/Twentynote/13.jpg', '/content/Train/Twentynote/33.jpg', '/content/Train/Twentynote/28.jpg', '/content/Train/Twentynote/17.jpg', '/content/Train/Twentynote/2.jpg', '/content/Train/Twentynote/32.jpg', '/content/Train/Twentynote/29.jpg', '/content/Train/Twentynote/3.jpg', '/content/Train/Twentynote/8.jpg', '/content/Train/Twentynote/10.jpg', '/content/Train/Twentynote/12.jpg', '/content/Train/Twentynote/7.jpg', '/content/Train/Twentynote/1.jpg', '/content/Train/Twentynote/16.jpg', '/content/Train/Twentynote/23.jpg', '/content/Train/Twentynote/20.jpg', '/content/Train/Twentynote/15.jpg', '/content/Train/Twentynote/6.jpg']\n"
          ]
        }
      ]
    },
    {
      "cell_type": "code",
      "execution_count": 15,
      "metadata": {
        "colab": {
          "base_uri": "https://localhost:8080/",
          "height": 0
        },
        "id": "GrefcMWsGgeZ",
        "outputId": "33e56744-f508-4198-8e06-455d5e89ad08"
      },
      "outputs": [
        {
          "output_type": "stream",
          "name": "stdout",
          "text": [
            "Total dataset class:  7\n"
          ]
        }
      ],
      "source": [
        "dataset_classes=[_1Hundrednote,_2Hundrednote,_2Thousandnote,_5Hundrednote,_Fiftynote,_Tennote,_Twentynote]\n",
        "total_class=len(dataset_classes)\n",
        "print('Total dataset class: ',total_class)"
      ]
    },
    {
      "cell_type": "code",
      "execution_count": 16,
      "metadata": {
        "colab": {
          "base_uri": "https://localhost:8080/",
          "height": 0
        },
        "id": "88LbYIi6GgkB",
        "outputId": "6677a167-98e9-4e3b-f331-a8ad1e27bb2c"
      },
      "outputs": [
        {
          "output_type": "stream",
          "name": "stdout",
          "text": [
            "Found 125 images belonging to 8 classes.\n",
            "Found 28 images belonging to 8 classes.\n"
          ]
        }
      ],
      "source": [
        "IMAGE_SIZE=224\n",
        "BATCH_SIZE=16\n",
        "\n",
        "#pre_processing_training\n",
        "train_datagen = ImageDataGenerator(\n",
        "        rescale=1./255,\n",
        "        shear_range=0.2,\n",
        "        zoom_range=0.2,\n",
        "        horizontal_flip=True,\n",
        "        fill_mode='nearest',\n",
        "        validation_split=0.2)\n",
        "\n",
        "training_set = train_datagen.flow_from_directory(\n",
        "        DATAPATH,\n",
        "        shuffle=True,\n",
        "        target_size=(IMAGE_SIZE,IMAGE_SIZE),\n",
        "        batch_size=BATCH_SIZE,\n",
        "        class_mode='categorical',\n",
        "        subset='training')\n",
        "\n",
        "\n",
        "validation_set = train_datagen.flow_from_directory(\n",
        "        DATAPATH,\n",
        "        shuffle=True,\n",
        "        target_size=(IMAGE_SIZE, IMAGE_SIZE),\n",
        "        batch_size=BATCH_SIZE,\n",
        "        class_mode='categorical',\n",
        "        subset='validation',\n",
        "        )  # Specify the validation split\n",
        "\n"
      ]
    },
    {
      "cell_type": "code",
      "execution_count": 17,
      "metadata": {
        "colab": {
          "base_uri": "https://localhost:8080/",
          "height": 0
        },
        "id": "M90dnxWwVLNT",
        "outputId": "5fd95e50-cf4c-47c0-8d3e-ab51864a5f97"
      },
      "outputs": [
        {
          "output_type": "stream",
          "name": "stdout",
          "text": [
            "Found 42 images belonging to 8 classes.\n"
          ]
        }
      ],
      "source": [
        "test_datagen = ImageDataGenerator(rescale=1./255)\n",
        "test_set = test_datagen.flow_from_directory(\n",
        "        TESTPATH,\n",
        "         shuffle=False,\n",
        "        target_size=(IMAGE_SIZE,IMAGE_SIZE),\n",
        "        batch_size=BATCH_SIZE,\n",
        "        class_mode='categorical')"
      ]
    },
    {
      "cell_type": "code",
      "execution_count": 18,
      "metadata": {
        "colab": {
          "base_uri": "https://localhost:8080/",
          "height": 0
        },
        "id": "bo-7jjulmsOY",
        "outputId": "f81e06b4-1f2c-43c9-a9c4-387ce9beffed"
      },
      "outputs": [
        {
          "output_type": "execute_result",
          "data": {
            "text/plain": [
              "{'.ipynb_checkpoints': 0,\n",
              " '1Hundrednote': 1,\n",
              " '2Hundrednote': 2,\n",
              " '2Thousandnote': 3,\n",
              " '5Hundrednote': 4,\n",
              " 'Fiftynote': 5,\n",
              " 'Tennote': 6,\n",
              " 'Twentynote': 7}"
            ]
          },
          "metadata": {},
          "execution_count": 18
        }
      ],
      "source": [
        "training_set.class_indices"
      ]
    },
    {
      "cell_type": "code",
      "execution_count": 19,
      "metadata": {
        "colab": {
          "base_uri": "https://localhost:8080/",
          "height": 0
        },
        "id": "IqdP8VMzVLTW",
        "outputId": "7e0e2f60-2e03-484f-8340-28ae0ac41340"
      },
      "outputs": [
        {
          "output_type": "stream",
          "name": "stdout",
          "text": [
            "Number of classes in dataset:  8\n"
          ]
        }
      ],
      "source": [
        "total_class=len(training_set.class_indices)\n",
        "print('Number of classes in dataset: ',total_class)"
      ]
    },
    {
      "cell_type": "code",
      "source": [
        "print(\"Shape of training set:\", training_set.image_shape)"
      ],
      "metadata": {
        "id": "uT_uRrToAkVQ",
        "colab": {
          "base_uri": "https://localhost:8080/",
          "height": 0
        },
        "outputId": "1ec52077-4fbf-4775-8266-430c159ddbca"
      },
      "execution_count": 20,
      "outputs": [
        {
          "output_type": "stream",
          "name": "stdout",
          "text": [
            "Shape of training set: (224, 224, 3)\n"
          ]
        }
      ]
    },
    {
      "cell_type": "code",
      "source": [
        "print(\"Shape of training set:\", validation_set.image_shape)"
      ],
      "metadata": {
        "colab": {
          "base_uri": "https://localhost:8080/",
          "height": 0
        },
        "id": "WS04ULwPAqBK",
        "outputId": "c6fe6c74-f400-4ab8-db32-9845df8208d6"
      },
      "execution_count": 21,
      "outputs": [
        {
          "output_type": "stream",
          "name": "stdout",
          "text": [
            "Shape of training set: (224, 224, 3)\n"
          ]
        }
      ]
    },
    {
      "cell_type": "code",
      "execution_count": 22,
      "metadata": {
        "id": "dTRV_mmtCCWN"
      },
      "outputs": [],
      "source": [
        "from tensorflow.keras.models import Sequential\n",
        "from tensorflow.keras.optimizers import Adam\n",
        "from tensorflow.keras.layers import Activation, Dense, Flatten"
      ]
    },
    {
      "cell_type": "code",
      "execution_count": 23,
      "metadata": {
        "id": "2tstjOS5CCX5",
        "colab": {
          "base_uri": "https://localhost:8080/",
          "height": 0
        },
        "outputId": "00e3302d-d016-4482-91b2-b88088770dd8"
      },
      "outputs": [
        {
          "output_type": "stream",
          "name": "stdout",
          "text": [
            "Downloading data from https://storage.googleapis.com/tensorflow/keras-applications/vgg16/vgg16_weights_tf_dim_ordering_tf_kernels_notop.h5\n",
            "58889256/58889256 [==============================] - 0s 0us/step\n"
          ]
        }
      ],
      "source": [
        "vgg16_model = Sequential()\n",
        "\n",
        "pretrained_model= tf.keras.applications.VGG16(include_top=False,\n",
        "                   input_shape=(224,224,3),\n",
        "                   pooling='max',classes=8,\n",
        "                   weights='imagenet')\n",
        "for layer in pretrained_model.layers:\n",
        "        layer.trainable=False\n",
        "\n",
        "vgg16_model.add(pretrained_model)"
      ]
    },
    {
      "cell_type": "code",
      "execution_count": 24,
      "metadata": {
        "id": "RNSBpF2rCCat"
      },
      "outputs": [],
      "source": [
        "vgg16_model.add(Flatten())\n",
        "vgg16_model.add(Dense(512, activation='relu'))\n",
        "vgg16_model.add(Dense(8, activation='softmax'))"
      ]
    },
    {
      "cell_type": "code",
      "execution_count": 25,
      "metadata": {
        "colab": {
          "base_uri": "https://localhost:8080/",
          "height": 0
        },
        "id": "AzYGCjD_CCcR",
        "outputId": "d9ba7598-0f72-4778-cf0e-a21976d69b50"
      },
      "outputs": [
        {
          "output_type": "stream",
          "name": "stdout",
          "text": [
            "Model: \"sequential\"\n",
            "_________________________________________________________________\n",
            " Layer (type)                Output Shape              Param #   \n",
            "=================================================================\n",
            " vgg16 (Functional)          (None, 512)               14714688  \n",
            "                                                                 \n",
            " flatten (Flatten)           (None, 512)               0         \n",
            "                                                                 \n",
            " dense (Dense)               (None, 512)               262656    \n",
            "                                                                 \n",
            " dense_1 (Dense)             (None, 8)                 4104      \n",
            "                                                                 \n",
            "=================================================================\n",
            "Total params: 14981448 (57.15 MB)\n",
            "Trainable params: 266760 (1.02 MB)\n",
            "Non-trainable params: 14714688 (56.13 MB)\n",
            "_________________________________________________________________\n"
          ]
        }
      ],
      "source": [
        "vgg16_model.summary()"
      ]
    },
    {
      "cell_type": "code",
      "execution_count": 26,
      "metadata": {
        "id": "Z6cYiRrsCCf9"
      },
      "outputs": [],
      "source": [
        "vgg16_model.compile(optimizer='adam',loss='categorical_crossentropy',metrics=['accuracy'])"
      ]
    },
    {
      "cell_type": "code",
      "source": [
        "from tensorflow.keras.utils import plot_model\n",
        "\n",
        "# Plot the model and save it to an image file\n",
        "plot_model(vgg16_model, to_file='vgg16_model.png', show_shapes=True, show_layer_names=True)"
      ],
      "metadata": {
        "colab": {
          "base_uri": "https://localhost:8080/",
          "height": 533
        },
        "id": "uhC1zjuZZMJ_",
        "outputId": "ab2eefb3-3656-4df2-c078-f9c91bc91508"
      },
      "execution_count": 27,
      "outputs": [
        {
          "output_type": "execute_result",
          "data": {
            "image/png": "[encoded data removed]",
            "text/plain": [
              "<IPython.core.display.Image object>"
            ]
          },
          "metadata": {},
          "execution_count": 27
        }
      ]
    },
    {
      "cell_type": "code",
      "execution_count": 29,
      "metadata": {
        "id": "rK3EB7KJB3Wn"
      },
      "outputs": [],
      "source": [
        "from tensorflow.keras.callbacks import ModelCheckpoint\n",
        "checkpointer = ModelCheckpoint(filepath=MODELPATH+'VGG16_Pretrained.model.best.hdf5', verbose=1 ,save_best_only=True)"
      ]
    },
    {
      "cell_type": "code",
      "execution_count": 30,
      "metadata": {
        "colab": {
          "base_uri": "https://localhost:8080/",
          "height": 0
        },
        "id": "x4oZCpyAB3bx",
        "outputId": "30adc098-bd15-47c7-b222-8de33b900b97"
      },
      "outputs": [
        {
          "output_type": "stream",
          "name": "stdout",
          "text": [
            "Epoch 1/50\n",
            "8/8 [==============================] - ETA: 0s - loss: 2.2720 - accuracy: 0.1600\n",
            "Epoch 1: val_loss improved from inf to 2.25137, saving model to /content/model/VGG16_Pretrained.model.best.hdf5\n",
            "8/8 [==============================] - 16s 1s/step - loss: 2.2720 - accuracy: 0.1600 - val_loss: 2.2514 - val_accuracy: 0.1786\n",
            "Epoch 2/50\n"
          ]
        },
        {
          "output_type": "stream",
          "name": "stderr",
          "text": [
            "/usr/local/lib/python3.10/dist-packages/keras/src/engine/training.py:3103: UserWarning: You are saving your model as an HDF5 file via `model.save()`. This file format is considered legacy. We recommend using instead the native Keras format, e.g. `model.save('my_model.keras')`.\n",
            "  saving_api.save_model(\n"
          ]
        },
        {
          "output_type": "stream",
          "name": "stdout",
          "text": [
            "8/8 [==============================] - ETA: 0s - loss: 1.9124 - accuracy: 0.3680\n",
            "Epoch 2: val_loss improved from 2.25137 to 1.74465, saving model to /content/model/VGG16_Pretrained.model.best.hdf5\n",
            "8/8 [==============================] - 3s 328ms/step - loss: 1.9124 - accuracy: 0.3680 - val_loss: 1.7447 - val_accuracy: 0.3571\n",
            "Epoch 3/50\n",
            "8/8 [==============================] - ETA: 0s - loss: 1.5496 - accuracy: 0.4240\n",
            "Epoch 3: val_loss improved from 1.74465 to 1.55062, saving model to /content/model/VGG16_Pretrained.model.best.hdf5\n",
            "8/8 [==============================] - 4s 489ms/step - loss: 1.5496 - accuracy: 0.4240 - val_loss: 1.5506 - val_accuracy: 0.4286\n",
            "Epoch 4/50\n",
            "8/8 [==============================] - ETA: 0s - loss: 1.3974 - accuracy: 0.4640\n",
            "Epoch 4: val_loss improved from 1.55062 to 1.51211, saving model to /content/model/VGG16_Pretrained.model.best.hdf5\n",
            "8/8 [==============================] - 3s 328ms/step - loss: 1.3974 - accuracy: 0.4640 - val_loss: 1.5121 - val_accuracy: 0.5000\n",
            "Epoch 5/50\n",
            "8/8 [==============================] - ETA: 0s - loss: 1.2505 - accuracy: 0.5360\n",
            "Epoch 5: val_loss improved from 1.51211 to 1.43230, saving model to /content/model/VGG16_Pretrained.model.best.hdf5\n",
            "8/8 [==============================] - 3s 338ms/step - loss: 1.2505 - accuracy: 0.5360 - val_loss: 1.4323 - val_accuracy: 0.4643\n",
            "Epoch 6/50\n",
            "8/8 [==============================] - ETA: 0s - loss: 1.0459 - accuracy: 0.6800\n",
            "Epoch 6: val_loss improved from 1.43230 to 1.28739, saving model to /content/model/VGG16_Pretrained.model.best.hdf5\n",
            "8/8 [==============================] - 3s 448ms/step - loss: 1.0459 - accuracy: 0.6800 - val_loss: 1.2874 - val_accuracy: 0.5714\n",
            "Epoch 7/50\n",
            "8/8 [==============================] - ETA: 0s - loss: 1.0111 - accuracy: 0.6960\n",
            "Epoch 7: val_loss did not improve from 1.28739\n",
            "8/8 [==============================] - 3s 316ms/step - loss: 1.0111 - accuracy: 0.6960 - val_loss: 1.3829 - val_accuracy: 0.4643\n",
            "Epoch 8/50\n",
            "8/8 [==============================] - ETA: 0s - loss: 0.9391 - accuracy: 0.6880\n",
            "Epoch 8: val_loss improved from 1.28739 to 1.16193, saving model to /content/model/VGG16_Pretrained.model.best.hdf5\n",
            "8/8 [==============================] - 3s 339ms/step - loss: 0.9391 - accuracy: 0.6880 - val_loss: 1.1619 - val_accuracy: 0.5714\n",
            "Epoch 9/50\n",
            "8/8 [==============================] - ETA: 0s - loss: 0.8263 - accuracy: 0.7760\n",
            "Epoch 9: val_loss improved from 1.16193 to 1.12904, saving model to /content/model/VGG16_Pretrained.model.best.hdf5\n",
            "8/8 [==============================] - 3s 336ms/step - loss: 0.8263 - accuracy: 0.7760 - val_loss: 1.1290 - val_accuracy: 0.6429\n",
            "Epoch 10/50\n",
            "8/8 [==============================] - ETA: 0s - loss: 0.6637 - accuracy: 0.8400\n",
            "Epoch 10: val_loss improved from 1.12904 to 1.07481, saving model to /content/model/VGG16_Pretrained.model.best.hdf5\n",
            "8/8 [==============================] - 3s 402ms/step - loss: 0.6637 - accuracy: 0.8400 - val_loss: 1.0748 - val_accuracy: 0.6071\n",
            "Epoch 11/50\n",
            "8/8 [==============================] - ETA: 0s - loss: 0.6108 - accuracy: 0.8720\n",
            "Epoch 11: val_loss did not improve from 1.07481\n",
            "8/8 [==============================] - 3s 313ms/step - loss: 0.6108 - accuracy: 0.8720 - val_loss: 1.1139 - val_accuracy: 0.6786\n",
            "Epoch 12/50\n",
            "8/8 [==============================] - ETA: 0s - loss: 0.5657 - accuracy: 0.8800\n",
            "Epoch 12: val_loss improved from 1.07481 to 1.02565, saving model to /content/model/VGG16_Pretrained.model.best.hdf5\n",
            "8/8 [==============================] - 3s 337ms/step - loss: 0.5657 - accuracy: 0.8800 - val_loss: 1.0257 - val_accuracy: 0.6786\n",
            "Epoch 13/50\n",
            "8/8 [==============================] - ETA: 0s - loss: 0.4496 - accuracy: 0.9360\n",
            "Epoch 13: val_loss improved from 1.02565 to 1.02050, saving model to /content/model/VGG16_Pretrained.model.best.hdf5\n",
            "8/8 [==============================] - 3s 332ms/step - loss: 0.4496 - accuracy: 0.9360 - val_loss: 1.0205 - val_accuracy: 0.7143\n",
            "Epoch 14/50\n",
            "8/8 [==============================] - ETA: 0s - loss: 0.4751 - accuracy: 0.9360\n",
            "Epoch 14: val_loss improved from 1.02050 to 0.88396, saving model to /content/model/VGG16_Pretrained.model.best.hdf5\n",
            "8/8 [==============================] - 3s 441ms/step - loss: 0.4751 - accuracy: 0.9360 - val_loss: 0.8840 - val_accuracy: 0.6786\n",
            "Epoch 15/50\n",
            "8/8 [==============================] - ETA: 0s - loss: 0.4369 - accuracy: 0.9520\n",
            "Epoch 15: val_loss improved from 0.88396 to 0.84396, saving model to /content/model/VGG16_Pretrained.model.best.hdf5\n",
            "8/8 [==============================] - 3s 334ms/step - loss: 0.4369 - accuracy: 0.9520 - val_loss: 0.8440 - val_accuracy: 0.7500\n",
            "Epoch 16/50\n",
            "8/8 [==============================] - ETA: 0s - loss: 0.3614 - accuracy: 0.9520\n",
            "Epoch 16: val_loss did not improve from 0.84396\n",
            "8/8 [==============================] - 3s 311ms/step - loss: 0.3614 - accuracy: 0.9520 - val_loss: 0.9584 - val_accuracy: 0.7500\n",
            "Epoch 17/50\n",
            "8/8 [==============================] - ETA: 0s - loss: 0.3882 - accuracy: 0.9440\n",
            "Epoch 17: val_loss did not improve from 0.84396\n",
            "8/8 [==============================] - 3s 309ms/step - loss: 0.3882 - accuracy: 0.9440 - val_loss: 0.9758 - val_accuracy: 0.6071\n",
            "Epoch 18/50\n",
            "8/8 [==============================] - ETA: 0s - loss: 0.2687 - accuracy: 0.9680\n",
            "Epoch 18: val_loss improved from 0.84396 to 0.81362, saving model to /content/model/VGG16_Pretrained.model.best.hdf5\n",
            "8/8 [==============================] - 3s 400ms/step - loss: 0.2687 - accuracy: 0.9680 - val_loss: 0.8136 - val_accuracy: 0.8214\n",
            "Epoch 19/50\n",
            "8/8 [==============================] - ETA: 0s - loss: 0.2791 - accuracy: 0.9680\n",
            "Epoch 19: val_loss did not improve from 0.81362\n",
            "8/8 [==============================] - 3s 422ms/step - loss: 0.2791 - accuracy: 0.9680 - val_loss: 0.8566 - val_accuracy: 0.7857\n",
            "Epoch 20/50\n",
            "8/8 [==============================] - ETA: 0s - loss: 0.2686 - accuracy: 0.9600\n",
            "Epoch 20: val_loss did not improve from 0.81362\n",
            "8/8 [==============================] - 4s 427ms/step - loss: 0.2686 - accuracy: 0.9600 - val_loss: 1.0902 - val_accuracy: 0.5357\n",
            "Epoch 21/50\n",
            "8/8 [==============================] - ETA: 0s - loss: 0.2382 - accuracy: 0.9760\n",
            "Epoch 21: val_loss improved from 0.81362 to 0.75257, saving model to /content/model/VGG16_Pretrained.model.best.hdf5\n",
            "8/8 [==============================] - 3s 330ms/step - loss: 0.2382 - accuracy: 0.9760 - val_loss: 0.7526 - val_accuracy: 0.8214\n",
            "Epoch 22/50\n",
            "8/8 [==============================] - ETA: 0s - loss: 0.1914 - accuracy: 0.9760\n",
            "Epoch 22: val_loss did not improve from 0.75257\n",
            "8/8 [==============================] - 3s 407ms/step - loss: 0.1914 - accuracy: 0.9760 - val_loss: 0.9545 - val_accuracy: 0.7143\n",
            "Epoch 23/50\n",
            "8/8 [==============================] - ETA: 0s - loss: 0.2144 - accuracy: 0.9680\n",
            "Epoch 23: val_loss did not improve from 0.75257\n",
            "8/8 [==============================] - 2s 310ms/step - loss: 0.2144 - accuracy: 0.9680 - val_loss: 0.7824 - val_accuracy: 0.8214\n",
            "Epoch 24/50\n",
            "8/8 [==============================] - ETA: 0s - loss: 0.2226 - accuracy: 0.9520\n",
            "Epoch 24: val_loss improved from 0.75257 to 0.69755, saving model to /content/model/VGG16_Pretrained.model.best.hdf5\n",
            "8/8 [==============================] - 3s 332ms/step - loss: 0.2226 - accuracy: 0.9520 - val_loss: 0.6976 - val_accuracy: 0.7500\n",
            "Epoch 25/50\n",
            "8/8 [==============================] - ETA: 0s - loss: 0.1769 - accuracy: 0.9840\n",
            "Epoch 25: val_loss did not improve from 0.69755\n",
            "8/8 [==============================] - 2s 301ms/step - loss: 0.1769 - accuracy: 0.9840 - val_loss: 0.8041 - val_accuracy: 0.7857\n",
            "Epoch 26/50\n",
            "8/8 [==============================] - ETA: 0s - loss: 0.1458 - accuracy: 0.9840\n",
            "Epoch 26: val_loss improved from 0.69755 to 0.66439, saving model to /content/model/VGG16_Pretrained.model.best.hdf5\n",
            "8/8 [==============================] - 4s 458ms/step - loss: 0.1458 - accuracy: 0.9840 - val_loss: 0.6644 - val_accuracy: 0.8214\n",
            "Epoch 27/50\n",
            "8/8 [==============================] - ETA: 0s - loss: 0.1630 - accuracy: 0.9840\n",
            "Epoch 27: val_loss did not improve from 0.66439\n",
            "8/8 [==============================] - 3s 335ms/step - loss: 0.1630 - accuracy: 0.9840 - val_loss: 0.7572 - val_accuracy: 0.7857\n",
            "Epoch 28/50\n",
            "8/8 [==============================] - ETA: 0s - loss: 0.1350 - accuracy: 0.9840\n",
            "Epoch 28: val_loss improved from 0.66439 to 0.55288, saving model to /content/model/VGG16_Pretrained.model.best.hdf5\n",
            "8/8 [==============================] - 3s 332ms/step - loss: 0.1350 - accuracy: 0.9840 - val_loss: 0.5529 - val_accuracy: 0.8214\n",
            "Epoch 29/50\n",
            "8/8 [==============================] - ETA: 0s - loss: 0.1378 - accuracy: 1.0000\n",
            "Epoch 29: val_loss did not improve from 0.55288\n",
            "8/8 [==============================] - 2s 313ms/step - loss: 0.1378 - accuracy: 1.0000 - val_loss: 0.7463 - val_accuracy: 0.7857\n",
            "Epoch 30/50\n",
            "8/8 [==============================] - ETA: 0s - loss: 0.1181 - accuracy: 0.9920\n",
            "Epoch 30: val_loss did not improve from 0.55288\n",
            "8/8 [==============================] - 3s 412ms/step - loss: 0.1181 - accuracy: 0.9920 - val_loss: 0.6869 - val_accuracy: 0.8214\n",
            "Epoch 31/50\n",
            "8/8 [==============================] - ETA: 0s - loss: 0.1202 - accuracy: 1.0000\n",
            "Epoch 31: val_loss did not improve from 0.55288\n",
            "8/8 [==============================] - 2s 307ms/step - loss: 0.1202 - accuracy: 1.0000 - val_loss: 0.8273 - val_accuracy: 0.7857\n",
            "Epoch 32/50\n",
            "8/8 [==============================] - ETA: 0s - loss: 0.1007 - accuracy: 0.9920\n",
            "Epoch 32: val_loss did not improve from 0.55288\n",
            "8/8 [==============================] - 3s 339ms/step - loss: 0.1007 - accuracy: 0.9920 - val_loss: 0.6187 - val_accuracy: 0.8214\n",
            "Epoch 33/50\n",
            "8/8 [==============================] - ETA: 0s - loss: 0.1186 - accuracy: 0.9920\n",
            "Epoch 33: val_loss did not improve from 0.55288\n",
            "8/8 [==============================] - 3s 422ms/step - loss: 0.1186 - accuracy: 0.9920 - val_loss: 0.6365 - val_accuracy: 0.8571\n",
            "Epoch 34/50\n",
            "8/8 [==============================] - ETA: 0s - loss: 0.1002 - accuracy: 1.0000\n",
            "Epoch 34: val_loss did not improve from 0.55288\n",
            "8/8 [==============================] - 3s 320ms/step - loss: 0.1002 - accuracy: 1.0000 - val_loss: 0.5971 - val_accuracy: 0.8214\n",
            "Epoch 35/50\n",
            "8/8 [==============================] - ETA: 0s - loss: 0.0950 - accuracy: 1.0000\n",
            "Epoch 35: val_loss did not improve from 0.55288\n",
            "8/8 [==============================] - 2s 309ms/step - loss: 0.0950 - accuracy: 1.0000 - val_loss: 0.7183 - val_accuracy: 0.7857\n",
            "Epoch 36/50\n",
            "8/8 [==============================] - ETA: 0s - loss: 0.0855 - accuracy: 0.9920\n",
            "Epoch 36: val_loss did not improve from 0.55288\n",
            "8/8 [==============================] - 2s 315ms/step - loss: 0.0855 - accuracy: 0.9920 - val_loss: 0.6810 - val_accuracy: 0.7143\n",
            "Epoch 37/50\n",
            "8/8 [==============================] - ETA: 0s - loss: 0.0844 - accuracy: 1.0000\n",
            "Epoch 37: val_loss did not improve from 0.55288\n",
            "8/8 [==============================] - 3s 318ms/step - loss: 0.0844 - accuracy: 1.0000 - val_loss: 0.8625 - val_accuracy: 0.7143\n",
            "Epoch 38/50\n",
            "8/8 [==============================] - ETA: 0s - loss: 0.0868 - accuracy: 0.9920\n",
            "Epoch 38: val_loss did not improve from 0.55288\n",
            "8/8 [==============================] - 3s 411ms/step - loss: 0.0868 - accuracy: 0.9920 - val_loss: 0.7073 - val_accuracy: 0.8214\n",
            "Epoch 39/50\n",
            "8/8 [==============================] - ETA: 0s - loss: 0.1009 - accuracy: 0.9920\n",
            "Epoch 39: val_loss did not improve from 0.55288\n",
            "8/8 [==============================] - 2s 318ms/step - loss: 0.1009 - accuracy: 0.9920 - val_loss: 0.8853 - val_accuracy: 0.7500\n",
            "Epoch 40/50\n",
            "8/8 [==============================] - ETA: 0s - loss: 0.0702 - accuracy: 1.0000\n",
            "Epoch 40: val_loss did not improve from 0.55288\n",
            "8/8 [==============================] - 3s 326ms/step - loss: 0.0702 - accuracy: 1.0000 - val_loss: 0.6334 - val_accuracy: 0.7500\n",
            "Epoch 41/50\n",
            "8/8 [==============================] - ETA: 0s - loss: 0.0633 - accuracy: 0.9920\n",
            "Epoch 41: val_loss did not improve from 0.55288\n",
            "8/8 [==============================] - 3s 445ms/step - loss: 0.0633 - accuracy: 0.9920 - val_loss: 0.7872 - val_accuracy: 0.8214\n",
            "Epoch 42/50\n",
            "8/8 [==============================] - ETA: 0s - loss: 0.0567 - accuracy: 0.9920\n",
            "Epoch 42: val_loss did not improve from 0.55288\n",
            "8/8 [==============================] - 2s 306ms/step - loss: 0.0567 - accuracy: 0.9920 - val_loss: 0.7925 - val_accuracy: 0.7857\n",
            "Epoch 43/50\n",
            "8/8 [==============================] - ETA: 0s - loss: 0.0651 - accuracy: 1.0000\n",
            "Epoch 43: val_loss improved from 0.55288 to 0.55021, saving model to /content/model/VGG16_Pretrained.model.best.hdf5\n",
            "8/8 [==============================] - 3s 337ms/step - loss: 0.0651 - accuracy: 1.0000 - val_loss: 0.5502 - val_accuracy: 0.8214\n",
            "Epoch 44/50\n",
            "8/8 [==============================] - ETA: 0s - loss: 0.0673 - accuracy: 0.9920\n",
            "Epoch 44: val_loss did not improve from 0.55021\n",
            "8/8 [==============================] - 3s 315ms/step - loss: 0.0673 - accuracy: 0.9920 - val_loss: 1.0475 - val_accuracy: 0.7143\n",
            "Epoch 45/50\n",
            "8/8 [==============================] - ETA: 0s - loss: 0.0604 - accuracy: 1.0000\n",
            "Epoch 45: val_loss did not improve from 0.55021\n",
            "8/8 [==============================] - 3s 332ms/step - loss: 0.0604 - accuracy: 1.0000 - val_loss: 0.6120 - val_accuracy: 0.8571\n",
            "Epoch 46/50\n",
            "8/8 [==============================] - ETA: 0s - loss: 0.0644 - accuracy: 1.0000\n",
            "Epoch 46: val_loss improved from 0.55021 to 0.49901, saving model to /content/model/VGG16_Pretrained.model.best.hdf5\n",
            "8/8 [==============================] - 3s 387ms/step - loss: 0.0644 - accuracy: 1.0000 - val_loss: 0.4990 - val_accuracy: 0.8571\n",
            "Epoch 47/50\n",
            "8/8 [==============================] - ETA: 0s - loss: 0.0535 - accuracy: 1.0000\n",
            "Epoch 47: val_loss did not improve from 0.49901\n",
            "8/8 [==============================] - 3s 317ms/step - loss: 0.0535 - accuracy: 1.0000 - val_loss: 0.7122 - val_accuracy: 0.8214\n",
            "Epoch 48/50\n",
            "8/8 [==============================] - ETA: 0s - loss: 0.0625 - accuracy: 1.0000\n",
            "Epoch 48: val_loss did not improve from 0.49901\n",
            "8/8 [==============================] - 2s 312ms/step - loss: 0.0625 - accuracy: 1.0000 - val_loss: 0.6910 - val_accuracy: 0.7857\n",
            "Epoch 49/50\n",
            "8/8 [==============================] - ETA: 0s - loss: 0.0625 - accuracy: 0.9920\n",
            "Epoch 49: val_loss did not improve from 0.49901\n",
            "8/8 [==============================] - 4s 468ms/step - loss: 0.0625 - accuracy: 0.9920 - val_loss: 0.8863 - val_accuracy: 0.8214\n",
            "Epoch 50/50\n",
            "8/8 [==============================] - ETA: 0s - loss: 0.0455 - accuracy: 0.9920\n",
            "Epoch 50: val_loss did not improve from 0.49901\n",
            "8/8 [==============================] - 2s 309ms/step - loss: 0.0455 - accuracy: 0.9920 - val_loss: 0.7534 - val_accuracy: 0.7500\n"
          ]
        }
      ],
      "source": [
        "history=vgg16_model.fit(training_set,\n",
        "                epochs=50,\n",
        "                validation_data=validation_set,\n",
        "                callbacks=[checkpointer])"
      ]
    },
    {
      "cell_type": "code",
      "execution_count": 31,
      "metadata": {
        "colab": {
          "base_uri": "https://localhost:8080/",
          "height": 472
        },
        "id": "dG7hyTwrB3ib",
        "outputId": "54f89551-0144-4bee-b0a3-93d629f93236"
      },
      "outputs": [
        {
          "output_type": "display_data",
          "data": {
            "text/plain": [
              "<Figure size 640x480 with 1 Axes>"
            ],
            "image/png": "[encoded data removed]"
          },
          "metadata": {}
        }
      ],
      "source": [
        "plt.xlabel('epochs')\n",
        "plt.ylabel('accuracy')\n",
        "plt.title('Training accuracy graph')\n",
        "plt.plot(history.history['accuracy'],label='accuracy')\n",
        "plt.plot(history.history['val_accuracy'],label='val_accuracy')\n",
        "plt.legend()\n",
        "plt.show()"
      ]
    },
    {
      "cell_type": "code",
      "execution_count": 32,
      "metadata": {
        "colab": {
          "base_uri": "https://localhost:8080/",
          "height": 472
        },
        "id": "D-mIUs5QB3sk",
        "outputId": "dd9e7fa0-9d87-4f68-c5da-a0eaf15d92cf"
      },
      "outputs": [
        {
          "output_type": "display_data",
          "data": {
            "text/plain": [
              "<Figure size 640x480 with 1 Axes>"
            ],
            "image/png": "[encoded data removed]"
          },
          "metadata": {}
        }
      ],
      "source": [
        "plt.xlabel('epochs')\n",
        "plt.ylabel('loss')\n",
        "plt.title('Loss training graph')\n",
        "plt.plot(history.history['loss'],label='loss')\n",
        "plt.plot(history.history['val_loss'],label='val_loss')\n",
        "plt.legend()\n",
        "plt.show()"
      ]
    },
    {
      "cell_type": "code",
      "execution_count": 33,
      "metadata": {
        "colab": {
          "base_uri": "https://localhost:8080/",
          "height": 0
        },
        "id": "LuIs_KqfCZ0f",
        "outputId": "07d2849c-67d5-4a8c-cf85-c91dfadf9f83"
      },
      "outputs": [
        {
          "output_type": "stream",
          "name": "stdout",
          "text": [
            "3/3 [==============================] - 3s 1s/step - loss: 1.1546 - accuracy: 0.6429\n",
            "Test Loss:  1.1546310186386108\n",
            "Test Accuracy:  0.6428571343421936\n"
          ]
        }
      ],
      "source": [
        "test_loss,test_accuracy=vgg16_model.evaluate(test_set)\n",
        "print('Test Loss: ',test_loss)\n",
        "print('Test Accuracy: ',test_accuracy)"
      ]
    },
    {
      "cell_type": "code",
      "execution_count": 34,
      "metadata": {
        "colab": {
          "base_uri": "https://localhost:8080/",
          "height": 0
        },
        "id": "meTkJqZ1CZ24",
        "outputId": "49f592a9-67a9-4130-a97b-0b66889bcfbf"
      },
      "outputs": [
        {
          "output_type": "stream",
          "name": "stdout",
          "text": [
            "Accuracy of the model is :  64.28571343421936\n"
          ]
        }
      ],
      "source": [
        "print('Accuracy of the model is : ',test_accuracy*100)"
      ]
    },
    {
      "cell_type": "code",
      "execution_count": 35,
      "metadata": {
        "colab": {
          "base_uri": "https://localhost:8080/",
          "height": 0
        },
        "id": "BTCE5d55CZ6y",
        "outputId": "7df271cb-c3e5-43a1-f18d-c2bca8a5e2ed"
      },
      "outputs": [
        {
          "output_type": "stream",
          "name": "stdout",
          "text": [
            "3/3 [==============================] - 0s 87ms/step\n"
          ]
        },
        {
          "output_type": "execute_result",
          "data": {
            "text/plain": [
              "array([[1.6346118e-07, 9.0310216e-01, 9.4300704e-03, 1.5244492e-03,\n",
              "        5.8278019e-05, 4.6440167e-03, 1.1646249e-02, 6.9594547e-02],\n",
              "       [7.8369970e-07, 8.2756177e-02, 1.2216610e-02, 1.8757635e-03,\n",
              "        1.9149543e-04, 8.0890574e-02, 8.1139974e-02, 7.4092865e-01],\n",
              "       [1.0971662e-06, 3.1259072e-01, 5.9706833e-02, 1.4478811e-04,\n",
              "        1.9144529e-04, 3.0253306e-01, 7.0643939e-02, 2.5418821e-01],\n",
              "       [1.5412869e-06, 7.4867809e-01, 8.6827306e-03, 3.2772534e-02,\n",
              "        2.7515375e-04, 2.3179189e-03, 1.0074695e-02, 1.9719736e-01],\n",
              "       [1.7059615e-07, 9.8380512e-01, 4.8967809e-03, 7.8356266e-04,\n",
              "        8.5782576e-03, 5.0648488e-04, 1.2500278e-03, 1.7957791e-04]],\n",
              "      dtype=float32)"
            ]
          },
          "metadata": {},
          "execution_count": 35
        }
      ],
      "source": [
        "predicted_result=vgg16_model.predict(test_set)\n",
        "predicted_result[:5]"
      ]
    },
    {
      "cell_type": "code",
      "execution_count": 36,
      "metadata": {
        "colab": {
          "base_uri": "https://localhost:8080/",
          "height": 0
        },
        "id": "DeP0Se-NCZ_Q",
        "outputId": "2a858eca-1843-4ebf-ce00-1a6781035fae"
      },
      "outputs": [
        {
          "output_type": "execute_result",
          "data": {
            "text/plain": [
              "array([1, 7, 1, 1, 1])"
            ]
          },
          "metadata": {},
          "execution_count": 36
        }
      ],
      "source": [
        "predicted_class=np.argmax(predicted_result,axis=-1)\n",
        "predicted_class[:5]"
      ]
    },
    {
      "cell_type": "code",
      "execution_count": 37,
      "metadata": {
        "colab": {
          "base_uri": "https://localhost:8080/",
          "height": 0
        },
        "id": "4ytXBJAkCaDk",
        "outputId": "69fbd479-2fc4-458e-a3ce-efdb44adea45"
      },
      "outputs": [
        {
          "output_type": "execute_result",
          "data": {
            "text/plain": [
              "array([1, 1, 1, 1, 1, 1, 2, 2, 2, 2, 2, 2, 3, 3, 3, 3, 3, 3, 4, 4, 4, 4,\n",
              "       4, 4, 5, 5, 5, 5, 5, 5, 6, 6, 6, 6, 6, 6, 7, 7, 7, 7, 7, 7],\n",
              "      dtype=int32)"
            ]
          },
          "metadata": {},
          "execution_count": 37
        }
      ],
      "source": [
        "test_classes=test_set.classes\n",
        "test_classes"
      ]
    },
    {
      "cell_type": "code",
      "execution_count": 38,
      "metadata": {
        "colab": {
          "base_uri": "https://localhost:8080/",
          "height": 0
        },
        "id": "h5xTvT83CaHE",
        "outputId": "ad302d07-00f1-4a14-cdbc-60f42e986250"
      },
      "outputs": [
        {
          "output_type": "stream",
          "name": "stdout",
          "text": [
            "[[4 0 0 0 0 0 2]\n",
            " [0 4 2 0 0 0 0]\n",
            " [0 2 3 0 0 0 1]\n",
            " [0 1 1 2 0 1 1]\n",
            " [1 0 0 0 3 2 0]\n",
            " [0 0 0 0 0 6 0]\n",
            " [1 0 0 0 0 0 5]]\n"
          ]
        }
      ],
      "source": [
        "from sklearn.metrics import confusion_matrix\n",
        "cm=confusion_matrix(test_classes,predicted_class)\n",
        "print(cm)"
      ]
    },
    {
      "cell_type": "code",
      "execution_count": 39,
      "metadata": {
        "colab": {
          "base_uri": "https://localhost:8080/",
          "height": 464
        },
        "id": "INe33hP0CaNO",
        "outputId": "16750dab-e245-4be4-b495-995814d97480"
      },
      "outputs": [
        {
          "output_type": "execute_result",
          "data": {
            "text/plain": [
              "<Axes: >"
            ]
          },
          "metadata": {},
          "execution_count": 39
        },
        {
          "output_type": "display_data",
          "data": {
            "text/plain": [
              "<Figure size 640x480 with 2 Axes>"
            ],
            "image/png": "[encoded data removed]"
          },
          "metadata": {}
        }
      ],
      "source": [
        "import seaborn as sns\n",
        "sns.set(font_scale=1.4)\n",
        "sns.heatmap(cm, annot=True,fmt='d',cmap=\"Blues\")"
      ]
    },
    {
      "cell_type": "code",
      "execution_count": 40,
      "metadata": {
        "colab": {
          "base_uri": "https://localhost:8080/",
          "height": 0
        },
        "id": "vIpieiE-CaPH",
        "outputId": "9d97254a-0b5a-4271-bfa7-73d142b8672b"
      },
      "outputs": [
        {
          "output_type": "stream",
          "name": "stdout",
          "text": [
            "Accuracy score:  0.6428571428571429\n"
          ]
        }
      ],
      "source": [
        "from sklearn.metrics import accuracy_score\n",
        "print('Accuracy score: ',accuracy_score(test_classes,predicted_class))"
      ]
    },
    {
      "cell_type": "code",
      "execution_count": null,
      "metadata": {
        "colab": {
          "base_uri": "https://localhost:8080/"
        },
        "id": "ZuPBzxn4CaQg",
        "outputId": "daa1af0f-d951-4450-b56d-384f9a8ed0d4"
      },
      "outputs": [
        {
          "name": "stdout",
          "output_type": "stream",
          "text": [
            "Classification Report \n",
            "               precision    recall  f1-score   support\n",
            "\n",
            "           0       1.00      1.00      1.00        72\n",
            "           1       0.95      1.00      0.98        60\n",
            "           2       1.00      1.00      1.00        60\n",
            "           3       1.00      1.00      1.00        60\n",
            "           4       0.95      0.95      0.95        60\n",
            "           5       1.00      1.00      1.00        72\n",
            "           6       1.00      1.00      1.00        47\n",
            "           7       1.00      0.96      0.98        72\n",
            "           8       1.00      1.00      1.00        72\n",
            "\n",
            "    accuracy                           0.99       575\n",
            "   macro avg       0.99      0.99      0.99       575\n",
            "weighted avg       0.99      0.99      0.99       575\n",
            "\n"
          ]
        }
      ],
      "source": [
        "from sklearn.metrics import classification_report\n",
        "print('Classification Report \\n',classification_report(test_classes,predicted_class))"
      ]
    },
    {
      "cell_type": "code",
      "execution_count": null,
      "metadata": {
        "colab": {
          "base_uri": "https://localhost:8080/"
        },
        "id": "uXl1QwP_e3dz",
        "outputId": "797dad78-f642-45a2-8d3e-9ed71e1a0239"
      },
      "outputs": [
        {
          "name": "stdout",
          "output_type": "stream",
          "text": [
            "Final Thesis/Saved Model/Model_11_vgg16_Pretrained0.9895651936531067_model_1647614762.h5\n"
          ]
        }
      ],
      "source": [
        "import time\n",
        "t = time.time()\n",
        "\n",
        "export_path_keras = \"/content/model/Model_11_vgg16_Pretrained{}_model_{}.h5\".format(test_accuracy,int(t))\n",
        "print(export_path_keras)\n",
        "vgg16_model.save(export_path_keras)\n"
      ]
    },
    {
      "cell_type": "code",
      "execution_count": null,
      "metadata": {
        "id": "eK6nWr87eisw"
      },
      "outputs": [],
      "source": [
        "from tensorflow.keras.models import load_model"
      ]
    },
    {
      "cell_type": "code",
      "execution_count": null,
      "metadata": {
        "colab": {
          "base_uri": "https://localhost:8080/"
        },
        "id": "CYsXbaQfeiul",
        "outputId": "80c93563-fa5e-4aa0-8d54-a7834cd932aa"
      },
      "outputs": [
        {
          "name": "stdout",
          "output_type": "stream",
          "text": [
            "Model: \"sequential\"\n",
            "_________________________________________________________________\n",
            " Layer (type)                Output Shape              Param #   \n",
            "=================================================================\n",
            " vgg16 (Functional)          (None, 512)               14714688  \n",
            "                                                                 \n",
            " flatten (Flatten)           (None, 512)               0         \n",
            "                                                                 \n",
            " dense (Dense)               (None, 512)               262656    \n",
            "                                                                 \n",
            " dense_1 (Dense)             (None, 9)                 4617      \n",
            "                                                                 \n",
            "=================================================================\n",
            "Total params: 14,981,961\n",
            "Trainable params: 267,273\n",
            "Non-trainable params: 14,714,688\n",
            "_________________________________________________________________\n"
          ]
        }
      ],
      "source": [
        "model_path=export_path_keras\n",
        "reload_model=load_model(model_path)\n",
        "reload_model.summary()"
      ]
    },
    {
      "cell_type": "code",
      "execution_count": null,
      "metadata": {
        "colab": {
          "base_uri": "https://localhost:8080/"
        },
        "id": "QSsdUtyxeiyv",
        "outputId": "d5684666-a697-490b-c274-c3be84d6cdb5"
      },
      "outputs": [
        {
          "name": "stdout",
          "output_type": "stream",
          "text": [
            "30\n",
            "(None, 9)\n"
          ]
        }
      ],
      "source": [
        "print(len(reload_model.weights))\n",
        "print(reload_model.output_shape)"
      ]
    },
    {
      "cell_type": "code",
      "execution_count": null,
      "metadata": {
        "colab": {
          "base_uri": "https://localhost:8080/"
        },
        "id": "wzcnXP6Sei4L",
        "outputId": "24b5d8b6-65a8-437b-f44e-ee95e30787a3"
      },
      "outputs": [
        {
          "data": {
            "text/plain": [
              "[<keras.engine.functional.Functional at 0x7fec35ecaa90>,\n",
              " <keras.layers.core.flatten.Flatten at 0x7fec35ec7f50>,\n",
              " <keras.layers.core.dense.Dense at 0x7fec35e9ced0>,\n",
              " <keras.layers.core.dense.Dense at 0x7fec35e4b3d0>]"
            ]
          },
          "execution_count": 39,
          "metadata": {},
          "output_type": "execute_result"
        }
      ],
      "source": [
        "reload_model.layers"
      ]
    },
    {
      "cell_type": "code",
      "execution_count": null,
      "metadata": {
        "colab": {
          "base_uri": "https://localhost:8080/"
        },
        "id": "JdURoir8ei58",
        "outputId": "acd8a64c-eddf-4e6d-b9ad-4bc1081266fb"
      },
      "outputs": [
        {
          "name": "stdout",
          "output_type": "stream",
          "text": [
            "Final Thesis/Saved Model/Model_11_vgg16_Pretrained 0.9895651936531067 Model 1647614786\n",
            "INFO:tensorflow:Assets written to: Final Thesis/Saved Model/Model_11_vgg16_Pretrained 0.9895651936531067 Model 1647614786/assets\n"
          ]
        }
      ],
      "source": [
        "t = time.time()\n",
        "\n",
        "export_path_sm = \"/content/model/Model_11_vgg16_Pretrained {} Model {}\".format(test_accuracy,int(t))\n",
        "print(export_path_sm)\n",
        "\n",
        "tf.saved_model.save(vgg16_model, export_path_sm)"
      ]
    },
    {
      "cell_type": "code",
      "execution_count": null,
      "metadata": {
        "id": "EZWLeik0ei8n"
      },
      "outputs": [],
      "source": [
        "reload_tf_saved_model=tf.saved_model.load(export_path_sm)"
      ]
    },
    {
      "cell_type": "code",
      "execution_count": null,
      "metadata": {
        "colab": {
          "base_uri": "https://localhost:8080/"
        },
        "id": "VY2En094ei-c",
        "outputId": "fb8773d1-589e-4a23-e098-68eff6560413"
      },
      "outputs": [
        {
          "data": {
            "text/plain": [
              "<ConcreteFunction signature_wrapper(*, vgg16_input) at 0x7FEC33365250>"
            ]
          },
          "execution_count": 42,
          "metadata": {},
          "output_type": "execute_result"
        }
      ],
      "source": [
        "reload_tf_saved_model.signatures['serving_default']"
      ]
    },
    {
      "cell_type": "code",
      "execution_count": null,
      "metadata": {
        "colab": {
          "base_uri": "https://localhost:8080/"
        },
        "id": "epS_8oHzejBk",
        "outputId": "bb7f14b2-bbdd-487a-9ef2-7026a0287738"
      },
      "outputs": [
        {
          "data": {
            "text/plain": [
              "<tensorflow.python.saved_model.load.Loader._recreate_base_user_object.<locals>._UserObject at 0x7fec35bc25d0>"
            ]
          },
          "execution_count": 43,
          "metadata": {},
          "output_type": "execute_result"
        }
      ],
      "source": [
        "reload_tf_saved_model"
      ]
    },
    {
      "cell_type": "code",
      "execution_count": null,
      "metadata": {
        "id": "zvJHAwuGejDN"
      },
      "outputs": [],
      "source": [
        "model=reload_model"
      ]
    },
    {
      "cell_type": "code",
      "execution_count": null,
      "metadata": {
        "id": "zrQENizCejGr"
      },
      "outputs": [],
      "source": [
        "def noteclass(cls):\n",
        "    txt=pyttsx3.init()\n",
        "    # if cls==0:\n",
        "    #     ans=\"Two Taka\"\n",
        "    #     print(ans)\n",
        "    #     txt.say(ans)\n",
        "    #     txt.runAndWait()\n",
        "    # el\n",
        "    if cls==1:\n",
        "        ans=\"1Hundrednote\"\n",
        "        print(ans)\n",
        "        txt.say(ans)\n",
        "        txt.runAndWait()\n",
        "    elif cls==2:\n",
        "        ans=\"2Hundrednote\"\n",
        "        print(ans)\n",
        "        txt.say(ans)\n",
        "        txt.runAndWait()\n",
        "    elif cls==3:\n",
        "        ans=\"2Thousandnote\"\n",
        "        print(ans)\n",
        "        txt.say(ans)\n",
        "        txt.runAndWait()\n",
        "    elif cls==4:\n",
        "        ans=\"5Hundrednote\"\n",
        "        print(ans)\n",
        "        txt.say(ans)\n",
        "        txt.runAndWait()\n",
        "    elif cls==5:\n",
        "        ans=\"Fiftynote\"\n",
        "        print(ans)\n",
        "        txt.say(ans)\n",
        "        txt.runAndWait()\n",
        "    elif cls==6:\n",
        "        ans=\"Tennote\"\n",
        "        print(ans)\n",
        "        txt.say(ans)\n",
        "        txt.runAndWait()\n",
        "    elif cls==7:\n",
        "        ans=\"Twentynote\"\n",
        "        print(ans)\n",
        "        txt.say(ans)\n",
        "        txt.runAndWait()\n",
        "    else:\n",
        "        ans=\"NA\"\n",
        "        print(ans)\n",
        "        txt.say(ans)\n",
        "        txt.runAndWait()\n"
      ]
    },
    {
      "cell_type": "code",
      "source": [
        "#\"\"WIN_20220326_11_18_21_Pro\"\"\"\n",
        "random_image=image.load_img('/content/Test/Tennote/3.jpg',target_size=(224,224))\n",
        "plt.imshow(random_image)\n",
        "random_image=image.img_to_array(random_image)\n",
        "test_image=random_image.reshape((1,)+random_image.shape)\n",
        "test_image=test_image/255.0\n",
        "#print(test_image.shape)\n",
        "predicted_class=reload_model.predict(test_image)\n",
        "#print(predicted_class)\n",
        "#print('True classification')\n",
        "noteclass(np.argmax(predicted_class))"
      ],
      "metadata": {
        "id": "e3Em0eK5QS1D"
      },
      "execution_count": null,
      "outputs": []
    }
  ],
  "metadata": {
    "accelerator": "GPU",
    "colab": {
      "provenance": []
    },
    "kernelspec": {
      "display_name": "Python 3",
      "language": "python",
      "name": "python3"
    },
    "language_info": {
      "codemirror_mode": {
        "name": "ipython",
        "version": 3
      },
      "file_extension": ".py",
      "mimetype": "text/x-python",
      "name": "python",
      "nbconvert_exporter": "python",
      "pygments_lexer": "ipython3",
      "version": "3.6.13"
    }
  },
  "nbformat": 4,
  "nbformat_minor": 0
}